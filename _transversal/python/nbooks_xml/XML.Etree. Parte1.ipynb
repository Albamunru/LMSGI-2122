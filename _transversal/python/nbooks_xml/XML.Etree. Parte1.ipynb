{
 "cells": [
  {
   "cell_type": "code",
   "execution_count": null,
   "id": "e657a0a8",
   "metadata": {},
   "outputs": [],
   "source": []
  },
  {
   "cell_type": "code",
   "execution_count": 21,
   "id": "0dff2264",
   "metadata": {},
   "outputs": [],
   "source": [
    "data ='''<registro_temperatura xmlns:xsi=\"http://www.w3.org/2001/XMLSchema-instance\" xsi:noNamespaceSchemaLocation=\"./temperatura_1.xsd\">\n",
    "\n",
    "  <provincia>badajoz</provincia>\n",
    "  <fecha>2021-05-12</fecha>\n",
    "  <temperatura_minima>40</temperatura_minima>\n",
    "  <temperatura_maxima>50</temperatura_maxima>\n",
    "\n",
    "  <incidencias>\n",
    "    <incidencia nombre=\"frio\" severidad=\"alta\"/>\n",
    "    <incidencia nombre=\"nieve\" severidad=\"alta\"/>\n",
    "    <incidencia nombre=\"lluvia\" severidad=\"alta\"/>\n",
    "  </incidencias>\n",
    "\n",
    "</registro_temperatura>\n",
    "'''"
   ]
  },
  {
   "cell_type": "code",
   "execution_count": 14,
   "id": "6f120a15",
   "metadata": {},
   "outputs": [
    {
     "name": "stdout",
     "output_type": "stream",
     "text": [
      "<built-in method items of xml.etree.ElementTree.Element object at 0x7fc9f4cced60>\n"
     ]
    }
   ],
   "source": [
    "import xml.etree.ElementTree as ET\n",
    "\n",
    "root = ET.fromstring(data)\n",
    "print(root.items)\n"
   ]
  },
  {
   "cell_type": "code",
   "execution_count": 22,
   "id": "e855dcb1",
   "metadata": {},
   "outputs": [
    {
     "name": "stdout",
     "output_type": "stream",
     "text": [
      "provincia {}\n",
      "fecha {}\n",
      "temperatura_minima {}\n",
      "temperatura_maxima {}\n",
      "incidencias {}\n"
     ]
    }
   ],
   "source": [
    "import xml.etree.ElementTree as ET\n",
    "\n",
    "root = ET.fromstring(data)\n",
    "for child in root:\n",
    "    print(child.tag, child.attrib)\n",
    "    if (child.items.coun)"
   ]
  },
  {
   "cell_type": "markdown",
   "id": "b5263d5c",
   "metadata": {},
   "source": [
    "### Recorrer un XML mediante iteración"
   ]
  },
  {
   "cell_type": "code",
   "execution_count": null,
   "id": "7f649e68",
   "metadata": {},
   "outputs": [],
   "source": [
    "countrys ='''<?xml version=\"1.0\"?>\n",
    "<data>\n",
    "    <country name=\"Liechtenstein\">\n",
    "        <rank>1</rank>\n",
    "        <year>2008</year>\n",
    "        <gdppc>141100</gdppc>\n",
    "        <neighbor name=\"Austria\" direction=\"E\"/>\n",
    "        <neighbor name=\"Switzerland\" direction=\"W\"/>\n",
    "    </country>\n",
    "    <country name=\"Singapore\">\n",
    "        <rank>4</rank>\n",
    "        <year>2011</year>\n",
    "        <gdppc>59900</gdppc>\n",
    "        <neighbor name=\"Malaysia\" direction=\"N\"/>\n",
    "    </country>\n",
    "    <country name=\"Panama\">\n",
    "        <rank>68</rank>\n",
    "        <year>2011</year>\n",
    "        <gdppc>13600</gdppc>\n",
    "        <neighbor name=\"Costa Rica\" direction=\"W\"/>\n",
    "        <neighbor name=\"Colombia\" direction=\"E\"/>\n",
    "    </country>\n",
    "</data>\n",
    "'''"
   ]
  },
  {
   "cell_type": "markdown",
   "id": "e2f466b1",
   "metadata": {},
   "source": [
    "**Recorrer encadenando bucles for**"
   ]
  },
  {
   "cell_type": "code",
   "execution_count": 45,
   "id": "3999f0c0",
   "metadata": {},
   "outputs": [
    {
     "name": "stdout",
     "output_type": "stream",
     "text": [
      "data {}\n"
     ]
    }
   ],
   "source": [
    "import xml.etree.ElementTree as ET\n",
    "\n",
    "#Si es un string, obtenermos el XMLTree\n",
    "root = ET.fromstring(countrys)\n",
    "print(root.tag, root.attrib)      "
   ]
  },
  {
   "cell_type": "code",
   "execution_count": 47,
   "id": "c55bb8a8",
   "metadata": {},
   "outputs": [
    {
     "name": "stdout",
     "output_type": "stream",
     "text": [
      "country {'name': 'Liechtenstein'}\n",
      "country {'name': 'Singapore'}\n",
      "country {'name': 'Panama'}\n"
     ]
    }
   ],
   "source": [
    "#Ahora iteramos sobre los elementos. Para saber si un elemento tiene hijos, utilizamos la comparación\n",
    "root = ET.fromstring(countrys)\n",
    "if root:\n",
    "    for child in root:\n",
    "        print(child.tag, child.attrib)\n"
   ]
  },
  {
   "cell_type": "code",
   "execution_count": null,
   "id": "86c3e7e5",
   "metadata": {},
   "outputs": [],
   "source": [
    "# Ahora para recorrer de cada hijo, hacemos la misma comparación que antes\n",
    "root = ET.fromstring(countrys)\n",
    "if root:\n",
    "    for child in root:\n",
    "        print(child.tag, child.attrib)\n",
    "        if child:\n",
    "            for subchild in child:\n",
    "                print(subchild.tag, subchild.attrib)"
   ]
  },
  {
   "cell_type": "markdown",
   "id": "9d301e27",
   "metadata": {},
   "source": [
    "¿**Que pasaría si el XML tuviera otro nivel?**"
   ]
  },
  {
   "cell_type": "code",
   "execution_count": 52,
   "id": "40cb064a",
   "metadata": {},
   "outputs": [],
   "source": [
    "countrys2 ='''<?xml version=\"1.0\"?>\n",
    "<data>\n",
    "  <country name=\"Liechtenstein\">\n",
    "      <rank>1</rank>\n",
    "      <year>2008</year>\n",
    "      <gdppc>141100</gdppc>\n",
    "      <neighbors>\n",
    "        <neighbor name=\"Austria\" direction=\"E\"/>\n",
    "        <neighbor name=\"Switzerland\" direction=\"W\"/>\n",
    "      </neighbors>\n",
    "  </country>\n",
    "  <country name=\"Singapore\">\n",
    "      <rank>4</rank>\n",
    "      <year>2011</year>\n",
    "      <gdppc>59900</gdppc>\n",
    "      <neighbors>\n",
    "        <neighbor name=\"Malaysia\" direction=\"N\"/>\n",
    "      </neighbors>\n",
    "      \n",
    "  </country>\n",
    "  <country name=\"Panama\">\n",
    "      <rank>68</rank>\n",
    "      <year>2011</year>\n",
    "      <gdppc>13600</gdppc>\n",
    "      <neighbors>\n",
    "        <neighbor name=\"Costa Rica\" direction=\"W\"/>\n",
    "        <neighbor name=\"Colombia\" direction=\"E\"/>\n",
    "      </neighbors>\n",
    "  </country>\n",
    "</data>\n",
    "'''"
   ]
  },
  {
   "cell_type": "code",
   "execution_count": 53,
   "id": "3db181fa",
   "metadata": {},
   "outputs": [
    {
     "name": "stdout",
     "output_type": "stream",
     "text": [
      "country {'name': 'Liechtenstein'}\n",
      "rank {}\n",
      "year {}\n",
      "gdppc {}\n",
      "neighbors {}\n",
      "country {'name': 'Singapore'}\n",
      "rank {}\n",
      "year {}\n",
      "gdppc {}\n",
      "neighbors {}\n",
      "country {'name': 'Panama'}\n",
      "rank {}\n",
      "year {}\n",
      "gdppc {}\n",
      "neighbors {}\n"
     ]
    }
   ],
   "source": [
    "# Si aplicamos la misma funcionalidad que antes, qué ocurre?\n",
    "root = ET.fromstring(countrys2)\n",
    "if root:\n",
    "    for child in root:\n",
    "        print(child.tag, child.attrib)\n",
    "        if child:\n",
    "            for subchild in child:\n",
    "                print(subchild.tag, subchild.attrib)"
   ]
  },
  {
   "cell_type": "markdown",
   "id": "1d6c2938",
   "metadata": {},
   "source": [
    "**¿Qué ocurre en este caso?**\n",
    "\n",
    "- podemos comprobar como ahora los \"neighbor\" no son mostrados, porque?\n",
    "- porque necesitamos un nivel más de profundidad..."
   ]
  },
  {
   "cell_type": "code",
   "execution_count": 57,
   "id": "2c7d15e6",
   "metadata": {},
   "outputs": [
    {
     "name": "stdout",
     "output_type": "stream",
     "text": [
      "country {'name': 'Liechtenstein'}\n",
      "rank {}\n",
      "year {}\n",
      "gdppc {}\n",
      "neighbors {}\n",
      "neighbor {'name': 'Austria', 'direction': 'E'}\n",
      "neighbor {'name': 'Switzerland', 'direction': 'W'}\n",
      "country {'name': 'Singapore'}\n",
      "rank {}\n",
      "year {}\n",
      "gdppc {}\n",
      "neighbors {}\n",
      "neighbor {'name': 'Malaysia', 'direction': 'N'}\n",
      "country {'name': 'Panama'}\n",
      "rank {}\n",
      "year {}\n",
      "gdppc {}\n",
      "neighbors {}\n",
      "neighbor {'name': 'Costa Rica', 'direction': 'W'}\n",
      "neighbor {'name': 'Colombia', 'direction': 'E'}\n"
     ]
    }
   ],
   "source": [
    "# Debemos aplicar un nuevo nivel de iteración\n",
    "root = ET.fromstring(countrys2)\n",
    "if root:\n",
    "    for child in root:\n",
    "        print(child.tag, child.attrib)\n",
    "        if child:\n",
    "            for subchild in child:\n",
    "                print(subchild.tag, subchild.attrib)\n",
    "                if subchild:\n",
    "                    for subsubchild in subchild:\n",
    "                        print(subsubchild.tag, subsubchild.attrib)"
   ]
  },
  {
   "cell_type": "markdown",
   "id": "41f055bc",
   "metadata": {},
   "source": [
    "Ahora sí mostramos todos los niveles.. \n",
    "pero esto no es muy elegante... y tampoco eficiente... y tampoco funcionaria en todos los casos\n",
    "\n",
    "### Problemas:\n",
    "1. Necesitamos modificar el codigo según el nivel de anidamiento\n",
    "2. Es dificil su lectura\n",
    "3. y propenso a errores\n",
    "\n",
    "**¿Cómo lo solucionamos?**"
   ]
  },
  {
   "cell_type": "markdown",
   "id": "7db7c92f",
   "metadata": {},
   "source": [
    "### Recursividad"
   ]
  },
  {
   "cell_type": "code",
   "execution_count": null,
   "id": "f51fecc4",
   "metadata": {},
   "outputs": [],
   "source": [
    "import xml.etree.ElementTree as ET\n",
    "\n",
    "def recorrerXml(element):\n",
    "    for child in element:\n",
    "        print(child.tag, child.attrib)\n",
    "        if (child):\n",
    "            recorrerXml(child)\n",
    "            \n",
    "root = ET.fromstring(countrys)\n",
    "recorrerXml(root)  "
   ]
  }
 ],
 "metadata": {
  "kernelspec": {
   "display_name": "Python 3",
   "language": "python",
   "name": "python3"
  },
  "language_info": {
   "codemirror_mode": {
    "name": "ipython",
    "version": 3
   },
   "file_extension": ".py",
   "mimetype": "text/x-python",
   "name": "python",
   "nbconvert_exporter": "python",
   "pygments_lexer": "ipython3",
   "version": "3.8.8"
  }
 },
 "nbformat": 4,
 "nbformat_minor": 5
}
